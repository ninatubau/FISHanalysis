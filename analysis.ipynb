{
 "cells": [
  {
   "cell_type": "markdown",
   "metadata": {},
   "source": [
    "# First analysis osmFISH"
   ]
  },
  {
   "cell_type": "code",
   "execution_count": 62,
   "metadata": {},
   "outputs": [],
   "source": [
    "from starfish import Experiment\n",
    "from starfish import display\n",
    "import numpy as np"
   ]
  },
  {
   "cell_type": "code",
   "execution_count": 48,
   "metadata": {},
   "outputs": [],
   "source": [
    "path = r'Z:/Sabrina/Pre-fishcodes/osmFISH/Python_analysis_test/output/' \n",
    "experiment = Experiment.from_json(path + \"experiment.json\")"
   ]
  },
  {
   "cell_type": "code",
   "execution_count": 52,
   "metadata": {},
   "outputs": [],
   "source": [
    "fov = experiment['fov_000']\n",
    "image = fov.get_image(\"primary\")\n",
    "nuclei = fov.get_image(\"nuclei\")"
   ]
  },
  {
   "cell_type": "code",
   "execution_count": 53,
   "metadata": {},
   "outputs": [
    {
     "name": "stderr",
     "output_type": "stream",
     "text": [
      "  0%|                                                    | 0/3 [00:00<?, ?it/s]C:\\Users\\tubau.n\\.conda\\envs\\starfish\\lib\\site-packages\\skimage\\util\\dtype.py:135: UserWarning: Possible precision loss when converting from float64 to float32\n",
      "  .format(dtypeobj_in, dtypeobj_out))\n",
      "100%|████████████████████████████████████████████| 3/3 [00:00<00:00,  4.30it/s]\n"
     ]
    }
   ],
   "source": [
    "%gui qt\n",
    "viewer = display(nuclei)\n",
    "viewer.layers[0].name = \"raw stack\" # rename the layer"
   ]
  },
  {
   "cell_type": "markdown",
   "metadata": {},
   "source": [
    "# Registration"
   ]
  },
  {
   "cell_type": "code",
   "execution_count": 55,
   "metadata": {},
   "outputs": [],
   "source": [
    "from starfish.image import ApplyTransform, LearnTransform\n",
    "from starfish.types import Axes\n",
    "\n",
    "def register(imgs, nuclei, method = 'translation'):\n",
    "    mip_imgs = imgs.reduce(dims = [Axes.CH, Axes.ZPLANE], func=\"max\")\n",
    "    mip_dots = dots.reduce(dims = [Axes.CH, Axes.ZPLANE], func=\"max\")\n",
    "    learn_translation = LearnTransform.Translation(reference_stack=mip_dots, axes=Axes.ROUND, upsampling=1000)\n",
    "    transforms_list = learn_translation.run(mip_imgs)\n",
    "    warp = ApplyTransform.Warp()\n",
    "    registered_imgs = warp.run(imgs, transforms_list=transforms_list, in_place=False, verbose=True)\n",
    "    return registered_imgs"
   ]
  },
  {
   "cell_type": "markdown",
   "metadata": {},
   "source": [
    "# Filtering"
   ]
  },
  {
   "cell_type": "code",
   "execution_count": 56,
   "metadata": {},
   "outputs": [],
   "source": [
    "from starfish.image import Filter\n",
    "\n",
    "def filter_white_tophat(imgs, nuclei, masking_radius):\n",
    "    wth = Filter.WhiteTophat(masking_radius=masking_radius)\n",
    "    return wth.run(imgs), wth.run(dots)"
   ]
  },
  {
   "cell_type": "markdown",
   "metadata": {},
   "source": [
    "# Finding spots"
   ]
  },
  {
   "cell_type": "code",
   "execution_count": 57,
   "metadata": {},
   "outputs": [],
   "source": [
    "from starfish.spots import FindSpots\n",
    "\n",
    "def find_spots(imgs, nuclei):\n",
    "\n",
    "    p = FindSpots.BlobDetector(\n",
    "        min_sigma=1,\n",
    "        max_sigma=10,\n",
    "        num_sigma=30,\n",
    "        threshold=0.01,\n",
    "        measurement_type='mean',\n",
    "    )\n",
    "\n",
    "    intensities = p.run(image_stack=imgs, reference_image=dots)\n",
    "    return intensities"
   ]
  },
  {
   "cell_type": "markdown",
   "metadata": {},
   "source": [
    "# Decoding spot"
   ]
  },
  {
   "cell_type": "code",
   "execution_count": 58,
   "metadata": {},
   "outputs": [],
   "source": [
    "from starfish.spots import DecodeSpots\n",
    "\n",
    "def decode_spots(codebook, spots):\n",
    "    decoder = DecodeSpots.PerRoundMaxChannel(codebook=codebook)\n",
    "    return decoder.run(spots=spots)"
   ]
  },
  {
   "cell_type": "markdown",
   "metadata": {},
   "source": [
    "# Segmenting cells"
   ]
  },
  {
   "cell_type": "code",
   "execution_count": 59,
   "metadata": {},
   "outputs": [],
   "source": [
    "from starfish.image import Segment\n",
    "from starfish.types import Axes\n",
    "\n",
    "def segment(registered_imgs, nuclei):\n",
    "    dapi_thresh = .22  # binary mask for cell (nuclear) locations\n",
    "    stain_thresh = 0.011  # binary mask for overall cells // binarization of stain\n",
    "    min_dist = 56\n",
    "\n",
    "    registered_mp = registered_imgs.reduce(dims=[Axes.CH, Axes.ZPLANE], func=\"max\").xarray.squeeze()\n",
    "    stain = np.mean(registered_mp, axis=0)\n",
    "    stain = stain / stain.max()\n",
    "    nuclei = nuclei.reduce(dims=[Axes.ROUND, Axes.CH, Axes.ZPLANE], func=\"max\")\n",
    "\n",
    "    seg = Segment.Watershed(\n",
    "        nuclei_threshold=dapi_thresh,\n",
    "        input_threshold=stain_thresh,\n",
    "        min_distance=min_dist\n",
    "    )\n",
    "    masks = seg.run(registered_imgs, nuclei)\n",
    "\n",
    "    return seg, masks"
   ]
  },
  {
   "cell_type": "markdown",
   "metadata": {},
   "source": [
    "# Single cell gene expression"
   ]
  },
  {
   "cell_type": "code",
   "execution_count": 60,
   "metadata": {},
   "outputs": [],
   "source": [
    "from starfish.spots import AssignTargets\n",
    "\n",
    "def make_expression_matrix(masks, decoded):\n",
    "    al = AssignTargets.Label()\n",
    "    labeled = al.run(masks, decoded[decoded.target != 'nan'])\n",
    "    cg = labeled[labeled.cell_id != 'nan'].to_expression_matrix()\n",
    "    return cg"
   ]
  },
  {
   "cell_type": "markdown",
   "metadata": {},
   "source": [
    "# Pipeline"
   ]
  },
  {
   "cell_type": "code",
   "execution_count": 63,
   "metadata": {},
   "outputs": [
    {
     "name": "stderr",
     "output_type": "stream",
     "text": [
      "100%|███████████████████████████████████████████| 1/1 [00:00<00:00, 102.01it/s]\n",
      "100%|███████████████████████████████████████████| 4/4 [00:00<00:00, 133.30it/s]\n",
      "100%|███████████████████████████████████████████| 4/4 [00:00<00:00, 118.44it/s]\n",
      "100%|███████████████████████████████████████████| 4/4 [00:00<00:00, 139.39it/s]\n",
      "100%|████████████████████████████████████████████| 1/1 [00:00<00:00, 18.52it/s]\n",
      "100%|████████████████████████████████████████████| 1/1 [00:00<00:00, 18.18it/s]\n",
      "100%|████████████████████████████████████████████| 1/1 [00:00<00:00, 51.39it/s]\n"
     ]
    },
    {
     "ename": "ValueError",
     "evalue": "not all masks have the same pixel ticks",
     "output_type": "error",
     "traceback": [
      "\u001b[1;31m---------------------------------------------------------------------------\u001b[0m",
      "\u001b[1;31mValueError\u001b[0m                                Traceback (most recent call last)",
      "\u001b[1;32m<ipython-input-63-fb152b26fe05>\u001b[0m in \u001b[0;36m<module>\u001b[1;34m\u001b[0m\n\u001b[0;32m     12\u001b[0m \u001b[1;33m\u001b[0m\u001b[0m\n\u001b[0;32m     13\u001b[0m \u001b[1;31m# segment\u001b[0m\u001b[1;33m\u001b[0m\u001b[1;33m\u001b[0m\u001b[1;33m\u001b[0m\u001b[0m\n\u001b[1;32m---> 14\u001b[1;33m \u001b[0mseg\u001b[0m\u001b[1;33m,\u001b[0m \u001b[0mmasks\u001b[0m \u001b[1;33m=\u001b[0m \u001b[0msegment\u001b[0m\u001b[1;33m(\u001b[0m\u001b[0mregistered_imgs\u001b[0m\u001b[1;33m,\u001b[0m \u001b[0mnuclei\u001b[0m\u001b[1;33m)\u001b[0m\u001b[1;33m\u001b[0m\u001b[1;33m\u001b[0m\u001b[0m\n\u001b[0m\u001b[0;32m     15\u001b[0m \u001b[1;33m\u001b[0m\u001b[0m\n\u001b[0;32m     16\u001b[0m \u001b[1;31m# make expression matrix\u001b[0m\u001b[1;33m\u001b[0m\u001b[1;33m\u001b[0m\u001b[1;33m\u001b[0m\u001b[0m\n",
      "\u001b[1;32m<ipython-input-59-00e917041f5d>\u001b[0m in \u001b[0;36msegment\u001b[1;34m(registered_imgs, nuclei)\u001b[0m\n\u001b[0;32m     17\u001b[0m         \u001b[0mmin_distance\u001b[0m\u001b[1;33m=\u001b[0m\u001b[0mmin_dist\u001b[0m\u001b[1;33m\u001b[0m\u001b[1;33m\u001b[0m\u001b[0m\n\u001b[0;32m     18\u001b[0m     )\n\u001b[1;32m---> 19\u001b[1;33m     \u001b[0mmasks\u001b[0m \u001b[1;33m=\u001b[0m \u001b[0mseg\u001b[0m\u001b[1;33m.\u001b[0m\u001b[0mrun\u001b[0m\u001b[1;33m(\u001b[0m\u001b[0mregistered_imgs\u001b[0m\u001b[1;33m,\u001b[0m \u001b[0mnuclei\u001b[0m\u001b[1;33m)\u001b[0m\u001b[1;33m\u001b[0m\u001b[1;33m\u001b[0m\u001b[0m\n\u001b[0m\u001b[0;32m     20\u001b[0m \u001b[1;33m\u001b[0m\u001b[0m\n\u001b[0;32m     21\u001b[0m     \u001b[1;32mreturn\u001b[0m \u001b[0mseg\u001b[0m\u001b[1;33m,\u001b[0m \u001b[0mmasks\u001b[0m\u001b[1;33m\u001b[0m\u001b[1;33m\u001b[0m\u001b[0m\n",
      "\u001b[1;32m~\\.conda\\envs\\starfish\\lib\\site-packages\\starfish\\core\\pipeline\\algorithmbase.py\u001b[0m in \u001b[0;36mhelper\u001b[1;34m(*args, **kwargs)\u001b[0m\n\u001b[0;32m     21\u001b[0m         \u001b[1;33m@\u001b[0m\u001b[0mfunctools\u001b[0m\u001b[1;33m.\u001b[0m\u001b[0mwraps\u001b[0m\u001b[1;33m(\u001b[0m\u001b[0mfunc\u001b[0m\u001b[1;33m)\u001b[0m\u001b[1;33m\u001b[0m\u001b[1;33m\u001b[0m\u001b[0m\n\u001b[0;32m     22\u001b[0m         \u001b[1;32mdef\u001b[0m \u001b[0mhelper\u001b[0m\u001b[1;33m(\u001b[0m\u001b[1;33m*\u001b[0m\u001b[0margs\u001b[0m\u001b[1;33m,\u001b[0m \u001b[1;33m**\u001b[0m\u001b[0mkwargs\u001b[0m\u001b[1;33m)\u001b[0m\u001b[1;33m:\u001b[0m\u001b[1;33m\u001b[0m\u001b[1;33m\u001b[0m\u001b[0m\n\u001b[1;32m---> 23\u001b[1;33m             \u001b[0mresult\u001b[0m \u001b[1;33m=\u001b[0m \u001b[0mfunc\u001b[0m\u001b[1;33m(\u001b[0m\u001b[1;33m*\u001b[0m\u001b[0margs\u001b[0m\u001b[1;33m,\u001b[0m \u001b[1;33m**\u001b[0m\u001b[0mkwargs\u001b[0m\u001b[1;33m)\u001b[0m\u001b[1;33m\u001b[0m\u001b[1;33m\u001b[0m\u001b[0m\n\u001b[0m\u001b[0;32m     24\u001b[0m             \u001b[1;32mif\u001b[0m \u001b[0mresult\u001b[0m \u001b[1;32mis\u001b[0m \u001b[1;32mnot\u001b[0m \u001b[1;32mNone\u001b[0m\u001b[1;33m:\u001b[0m\u001b[1;33m\u001b[0m\u001b[1;33m\u001b[0m\u001b[0m\n\u001b[0;32m     25\u001b[0m                 \u001b[0mmethod_class_str\u001b[0m \u001b[1;33m=\u001b[0m \u001b[0mstr\u001b[0m\u001b[1;33m(\u001b[0m\u001b[0margs\u001b[0m\u001b[1;33m[\u001b[0m\u001b[1;36m0\u001b[0m\u001b[1;33m]\u001b[0m\u001b[1;33m.\u001b[0m\u001b[0m__class__\u001b[0m\u001b[1;33m)\u001b[0m\u001b[1;33m\u001b[0m\u001b[1;33m\u001b[0m\u001b[0m\n",
      "\u001b[1;32m~\\.conda\\envs\\starfish\\lib\\site-packages\\starfish\\core\\image\\Segment\\watershed.py\u001b[0m in \u001b[0;36mrun\u001b[1;34m(self, primary_images, nuclei, *args)\u001b[0m\n\u001b[0;32m     84\u001b[0m         return self._segmentation_instance.segment(\n\u001b[0;32m     85\u001b[0m             \u001b[0mself\u001b[0m\u001b[1;33m.\u001b[0m\u001b[0mnuclei_threshold\u001b[0m\u001b[1;33m,\u001b[0m \u001b[0mself\u001b[0m\u001b[1;33m.\u001b[0m\u001b[0minput_threshold\u001b[0m\u001b[1;33m,\u001b[0m \u001b[0msize_lim\u001b[0m\u001b[1;33m,\u001b[0m \u001b[0mdisk_size_markers\u001b[0m\u001b[1;33m,\u001b[0m\u001b[1;33m\u001b[0m\u001b[1;33m\u001b[0m\u001b[0m\n\u001b[1;32m---> 86\u001b[1;33m             \u001b[0mdisk_size_mask\u001b[0m\u001b[1;33m,\u001b[0m \u001b[0mself\u001b[0m\u001b[1;33m.\u001b[0m\u001b[0mmin_distance\u001b[0m\u001b[1;33m\u001b[0m\u001b[1;33m\u001b[0m\u001b[0m\n\u001b[0m\u001b[0;32m     87\u001b[0m         )\n\u001b[0;32m     88\u001b[0m \u001b[1;33m\u001b[0m\u001b[0m\n",
      "\u001b[1;32m~\\.conda\\envs\\starfish\\lib\\site-packages\\starfish\\core\\image\\Segment\\watershed.py\u001b[0m in \u001b[0;36msegment\u001b[1;34m(self, nuclei_thresh, stain_thresh, size_lim, disk_size_markers, disk_size_mask, min_dist)\u001b[0m\n\u001b[0;32m    168\u001b[0m         \u001b[0mself\u001b[0m\u001b[1;33m.\u001b[0m\u001b[0mmarkers\u001b[0m \u001b[1;33m=\u001b[0m \u001b[0marea_filter\u001b[0m\u001b[1;33m.\u001b[0m\u001b[0mrun\u001b[0m\u001b[1;33m(\u001b[0m\u001b[0mlabeled_masks\u001b[0m\u001b[1;33m)\u001b[0m\u001b[1;33m\u001b[0m\u001b[1;33m\u001b[0m\u001b[0m\n\u001b[0;32m    169\u001b[0m         \u001b[0mself\u001b[0m\u001b[1;33m.\u001b[0m\u001b[0mnum_cells\u001b[0m \u001b[1;33m=\u001b[0m \u001b[0mlen\u001b[0m\u001b[1;33m(\u001b[0m\u001b[0mself\u001b[0m\u001b[1;33m.\u001b[0m\u001b[0mmarkers\u001b[0m\u001b[1;33m)\u001b[0m\u001b[1;33m\u001b[0m\u001b[1;33m\u001b[0m\u001b[0m\n\u001b[1;32m--> 170\u001b[1;33m         \u001b[0mself\u001b[0m\u001b[1;33m.\u001b[0m\u001b[0mmask\u001b[0m \u001b[1;33m=\u001b[0m \u001b[0mself\u001b[0m\u001b[1;33m.\u001b[0m\u001b[0mwatershed_mask\u001b[0m\u001b[1;33m(\u001b[0m\u001b[0mstain_thresh\u001b[0m\u001b[1;33m,\u001b[0m \u001b[0mself\u001b[0m\u001b[1;33m.\u001b[0m\u001b[0mmarkers\u001b[0m\u001b[1;33m,\u001b[0m \u001b[0mdisk_size_mask\u001b[0m\u001b[1;33m)\u001b[0m\u001b[1;33m\u001b[0m\u001b[1;33m\u001b[0m\u001b[0m\n\u001b[0m\u001b[0;32m    171\u001b[0m         \u001b[0mself\u001b[0m\u001b[1;33m.\u001b[0m\u001b[0msegmented\u001b[0m \u001b[1;33m=\u001b[0m \u001b[0mself\u001b[0m\u001b[1;33m.\u001b[0m\u001b[0mwatershed\u001b[0m\u001b[1;33m(\u001b[0m\u001b[0mself\u001b[0m\u001b[1;33m.\u001b[0m\u001b[0mmarkers\u001b[0m\u001b[1;33m,\u001b[0m \u001b[0mself\u001b[0m\u001b[1;33m.\u001b[0m\u001b[0mmask\u001b[0m\u001b[1;33m)\u001b[0m\u001b[1;33m\u001b[0m\u001b[1;33m\u001b[0m\u001b[0m\n\u001b[0;32m    172\u001b[0m         \u001b[1;32mreturn\u001b[0m \u001b[0mself\u001b[0m\u001b[1;33m.\u001b[0m\u001b[0msegmented\u001b[0m\u001b[1;33m\u001b[0m\u001b[1;33m\u001b[0m\u001b[0m\n",
      "\u001b[1;32m~\\.conda\\envs\\starfish\\lib\\site-packages\\starfish\\core\\image\\Segment\\watershed.py\u001b[0m in \u001b[0;36mwatershed_mask\u001b[1;34m(self, stain_thresh, markers, disk_size)\u001b[0m\n\u001b[0;32m    225\u001b[0m         \"\"\"\n\u001b[0;32m    226\u001b[0m         \u001b[0mthresholded_stain\u001b[0m \u001b[1;33m=\u001b[0m \u001b[0mThresholdBinarize\u001b[0m\u001b[1;33m(\u001b[0m\u001b[0mstain_thresh\u001b[0m\u001b[1;33m)\u001b[0m\u001b[1;33m.\u001b[0m\u001b[0mrun\u001b[0m\u001b[1;33m(\u001b[0m\u001b[0mself\u001b[0m\u001b[1;33m.\u001b[0m\u001b[0mstain\u001b[0m\u001b[1;33m)\u001b[0m\u001b[1;33m\u001b[0m\u001b[1;33m\u001b[0m\u001b[0m\n\u001b[1;32m--> 227\u001b[1;33m         \u001b[0mmarkers_and_stain\u001b[0m \u001b[1;33m=\u001b[0m \u001b[0mMerge\u001b[0m\u001b[1;33m.\u001b[0m\u001b[0mSimpleMerge\u001b[0m\u001b[1;33m(\u001b[0m\u001b[1;33m)\u001b[0m\u001b[1;33m.\u001b[0m\u001b[0mrun\u001b[0m\u001b[1;33m(\u001b[0m\u001b[1;33m[\u001b[0m\u001b[0mthresholded_stain\u001b[0m\u001b[1;33m,\u001b[0m \u001b[0mmarkers\u001b[0m\u001b[1;33m]\u001b[0m\u001b[1;33m)\u001b[0m\u001b[1;33m\u001b[0m\u001b[1;33m\u001b[0m\u001b[0m\n\u001b[0m\u001b[0;32m    228\u001b[0m         watershed_mask = Filter.Reduce(\n\u001b[0;32m    229\u001b[0m             \u001b[1;34m\"logical_or\"\u001b[0m\u001b[1;33m,\u001b[0m\u001b[1;33m\u001b[0m\u001b[1;33m\u001b[0m\u001b[0m\n",
      "\u001b[1;32m~\\.conda\\envs\\starfish\\lib\\site-packages\\starfish\\core\\pipeline\\algorithmbase.py\u001b[0m in \u001b[0;36mhelper\u001b[1;34m(*args, **kwargs)\u001b[0m\n\u001b[0;32m     21\u001b[0m         \u001b[1;33m@\u001b[0m\u001b[0mfunctools\u001b[0m\u001b[1;33m.\u001b[0m\u001b[0mwraps\u001b[0m\u001b[1;33m(\u001b[0m\u001b[0mfunc\u001b[0m\u001b[1;33m)\u001b[0m\u001b[1;33m\u001b[0m\u001b[1;33m\u001b[0m\u001b[0m\n\u001b[0;32m     22\u001b[0m         \u001b[1;32mdef\u001b[0m \u001b[0mhelper\u001b[0m\u001b[1;33m(\u001b[0m\u001b[1;33m*\u001b[0m\u001b[0margs\u001b[0m\u001b[1;33m,\u001b[0m \u001b[1;33m**\u001b[0m\u001b[0mkwargs\u001b[0m\u001b[1;33m)\u001b[0m\u001b[1;33m:\u001b[0m\u001b[1;33m\u001b[0m\u001b[1;33m\u001b[0m\u001b[0m\n\u001b[1;32m---> 23\u001b[1;33m             \u001b[0mresult\u001b[0m \u001b[1;33m=\u001b[0m \u001b[0mfunc\u001b[0m\u001b[1;33m(\u001b[0m\u001b[1;33m*\u001b[0m\u001b[0margs\u001b[0m\u001b[1;33m,\u001b[0m \u001b[1;33m**\u001b[0m\u001b[0mkwargs\u001b[0m\u001b[1;33m)\u001b[0m\u001b[1;33m\u001b[0m\u001b[1;33m\u001b[0m\u001b[0m\n\u001b[0m\u001b[0;32m     24\u001b[0m             \u001b[1;32mif\u001b[0m \u001b[0mresult\u001b[0m \u001b[1;32mis\u001b[0m \u001b[1;32mnot\u001b[0m \u001b[1;32mNone\u001b[0m\u001b[1;33m:\u001b[0m\u001b[1;33m\u001b[0m\u001b[1;33m\u001b[0m\u001b[0m\n\u001b[0;32m     25\u001b[0m                 \u001b[0mmethod_class_str\u001b[0m \u001b[1;33m=\u001b[0m \u001b[0mstr\u001b[0m\u001b[1;33m(\u001b[0m\u001b[0margs\u001b[0m\u001b[1;33m[\u001b[0m\u001b[1;36m0\u001b[0m\u001b[1;33m]\u001b[0m\u001b[1;33m.\u001b[0m\u001b[0m__class__\u001b[0m\u001b[1;33m)\u001b[0m\u001b[1;33m\u001b[0m\u001b[1;33m\u001b[0m\u001b[0m\n",
      "\u001b[1;32m~\\.conda\\envs\\starfish\\lib\\site-packages\\starfish\\core\\morphology\\Merge\\simple.py\u001b[0m in \u001b[0;36mrun\u001b[1;34m(self, binary_mask_collections, *args, **kwargs)\u001b[0m\n\u001b[0;32m     39\u001b[0m \u001b[1;33m\u001b[0m\u001b[0m\n\u001b[0;32m     40\u001b[0m             \u001b[1;32mif\u001b[0m \u001b[1;32mnot\u001b[0m \u001b[0m_ticks_equal\u001b[0m\u001b[1;33m(\u001b[0m\u001b[0mpixel_ticks\u001b[0m\u001b[1;33m,\u001b[0m \u001b[0mbinary_mask_collection\u001b[0m\u001b[1;33m.\u001b[0m\u001b[0m_pixel_ticks\u001b[0m\u001b[1;33m)\u001b[0m\u001b[1;33m:\u001b[0m\u001b[1;33m\u001b[0m\u001b[1;33m\u001b[0m\u001b[0m\n\u001b[1;32m---> 41\u001b[1;33m                 \u001b[1;32mraise\u001b[0m \u001b[0mValueError\u001b[0m\u001b[1;33m(\u001b[0m\u001b[1;34m\"not all masks have the same pixel ticks\"\u001b[0m\u001b[1;33m)\u001b[0m\u001b[1;33m\u001b[0m\u001b[1;33m\u001b[0m\u001b[0m\n\u001b[0m\u001b[0;32m     42\u001b[0m             \u001b[1;32mif\u001b[0m \u001b[1;32mnot\u001b[0m \u001b[0m_ticks_equal\u001b[0m\u001b[1;33m(\u001b[0m\u001b[0mphysical_ticks\u001b[0m\u001b[1;33m,\u001b[0m \u001b[0mbinary_mask_collection\u001b[0m\u001b[1;33m.\u001b[0m\u001b[0m_physical_ticks\u001b[0m\u001b[1;33m)\u001b[0m\u001b[1;33m:\u001b[0m\u001b[1;33m\u001b[0m\u001b[1;33m\u001b[0m\u001b[0m\n\u001b[0;32m     43\u001b[0m                 \u001b[1;32mraise\u001b[0m \u001b[0mValueError\u001b[0m\u001b[1;33m(\u001b[0m\u001b[1;34m\"not all masks have the same physical ticks\"\u001b[0m\u001b[1;33m)\u001b[0m\u001b[1;33m\u001b[0m\u001b[1;33m\u001b[0m\u001b[0m\n",
      "\u001b[1;31mValueError\u001b[0m: not all masks have the same pixel ticks"
     ]
    }
   ],
   "source": [
    "# filter\n",
    "imgs_wth, dots_wth = filter_white_tophat(imgs, dots, 15)\n",
    "\n",
    "# register\n",
    "registered_imgs = register(imgs_wth, dots_wth)\n",
    "\n",
    "# find spots\n",
    "spots = find_spots(registered_imgs, dots_wth)\n",
    "\n",
    "# decode\n",
    "decoded = decode_spots(e.codebook, spots)\n",
    "\n",
    "# segment\n",
    "seg, masks = segment(registered_imgs, nuclei)\n",
    "\n",
    "# make expression matrix\n",
    "mat = make_expression_matrix(masks, decoded)"
   ]
  }
 ],
 "metadata": {
  "kernelspec": {
   "display_name": "starfish",
   "language": "python",
   "name": "starfish"
  },
  "language_info": {
   "codemirror_mode": {
    "name": "ipython",
    "version": 3
   },
   "file_extension": ".py",
   "mimetype": "text/x-python",
   "name": "python",
   "nbconvert_exporter": "python",
   "pygments_lexer": "ipython3",
   "version": "3.7.7"
  }
 },
 "nbformat": 4,
 "nbformat_minor": 4
}
