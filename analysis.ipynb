{
 "cells": [
  {
   "cell_type": "markdown",
   "metadata": {},
   "source": [
    "# First analysis osmFISH"
   ]
  },
  {
   "cell_type": "markdown",
   "metadata": {},
   "source": [
    "Importing libraries"
   ]
  },
  {
   "cell_type": "code",
   "execution_count": null,
   "metadata": {},
   "outputs": [],
   "source": [
    "from starfish import Experiment\n",
    "from starfish import display\n",
    "import numpy as np\n",
    "import napari"
   ]
  },
  {
   "cell_type": "code",
   "execution_count": null,
   "metadata": {},
   "outputs": [],
   "source": [
    "from starfish.image import ApplyTransform, LearnTransform, Filter, Segment\n",
    "from starfish.types import Axes\n",
    "from starfish.spots import DecodeSpots, FindSpots, AssignTargets"
   ]
  },
  {
   "cell_type": "markdown",
   "metadata": {},
   "source": [
    "Load data: primary images, nuclei, dots and codebook."
   ]
  },
  {
   "cell_type": "code",
   "execution_count": null,
   "metadata": {},
   "outputs": [],
   "source": [
    "path = r'Z:/Sabrina/Pre-fishcodes/osmFISH/Python_analysis_test/output/' \n",
    "experiment = Experiment.from_json(path + \"experiment.json\")"
   ]
  },
  {
   "cell_type": "code",
   "execution_count": null,
   "metadata": {},
   "outputs": [],
   "source": [
    "fov = experiment['fov_000']\n",
    "imgs = fov.get_image(\"primary\")\n",
    "nuclei = fov.get_image(\"nuclei\")\n",
    "#dots = fov.get_image(\"dots\")"
   ]
  },
  {
   "cell_type": "code",
   "execution_count": null,
   "metadata": {},
   "outputs": [],
   "source": [
    "codebook = experiment.codebook"
   ]
  },
  {
   "cell_type": "markdown",
   "metadata": {},
   "source": [
    "Visualise imported data"
   ]
  },
  {
   "cell_type": "code",
   "execution_count": null,
   "metadata": {},
   "outputs": [],
   "source": [
    "%gui qt\n",
    "viewer = display(imgs)\n",
    "viewer.layers[0].name = \"raw stack\" # rename the layer"
   ]
  },
  {
   "cell_type": "code",
   "execution_count": null,
   "metadata": {},
   "outputs": [],
   "source": [
    "viewer = display(stack=nuclei, viewer=viewer)"
   ]
  },
  {
   "cell_type": "code",
   "execution_count": null,
   "metadata": {},
   "outputs": [],
   "source": [
    "viewer = display(stack=imgs, spots=decoded, masks=masks, viewer=viewer)"
   ]
  },
  {
   "cell_type": "code",
   "execution_count": null,
   "metadata": {},
   "outputs": [],
   "source": [
    "viewer = display(imgs)\n",
    "viewer.add_image(dots.xarray, name='dots')\n",
    "viewer.add_labels(spots.to_label_image().label_image, name='cells')"
   ]
  },
  {
   "cell_type": "code",
   "execution_count": null,
   "metadata": {},
   "outputs": [],
   "source": [
    "%gui qt\n",
    "viewer = display(imgs)\n",
    "viewer = display(imgs_wth, viewer=viewer)"
   ]
  },
  {
   "cell_type": "markdown",
   "metadata": {},
   "source": [
    "# Filtering"
   ]
  },
  {
   "cell_type": "markdown",
   "metadata": {},
   "source": [
    "Filter with white top hat or clipping to remove autofluorescence."
   ]
  },
  {
   "cell_type": "code",
   "execution_count": null,
   "metadata": {},
   "outputs": [],
   "source": [
    "def filter_white_tophat(imgs, masking_radius):\n",
    "    wth = Filter.WhiteTophat(masking_radius=masking_radius)\n",
    "    return wth.run(imgs)"
   ]
  },
  {
   "cell_type": "code",
   "execution_count": null,
   "metadata": {},
   "outputs": [],
   "source": [
    "# filter\n",
    "#imgs_wth = filter_white_tophat(imgs, 50)"
   ]
  },
  {
   "cell_type": "code",
   "execution_count": null,
   "metadata": {},
   "outputs": [],
   "source": [
    "def clip(image): \n",
    "    clip_97 = Filter.Clip(p_min=99)\n",
    "    return clip_97.run(image)"
   ]
  },
  {
   "cell_type": "code",
   "execution_count": null,
   "metadata": {},
   "outputs": [],
   "source": [
    "imgs_wth = clip(imgs)"
   ]
  },
  {
   "cell_type": "markdown",
   "metadata": {},
   "source": [
    "# Registration"
   ]
  },
  {
   "cell_type": "code",
   "execution_count": null,
   "metadata": {},
   "outputs": [],
   "source": [
    "def register(imgs, dots, method = 'translation'):\n",
    "    mip_imgs = imgs.reduce(dims = [Axes.CH, Axes.ZPLANE], func=\"max\")\n",
    "    mip_dots = dots.reduce(dims = [Axes.CH, Axes.ZPLANE], func=\"max\")\n",
    "    learn_translation = LearnTransform.Translation(reference_stack=mip_dots, axes=Axes.ROUND, upsampling=1000)\n",
    "    transforms_list = learn_translation.run(mip_imgs)\n",
    "    warp = ApplyTransform.Warp()\n",
    "    registered_imgs = warp.run(imgs, transforms_list=transforms_list, in_place=False, verbose=True)\n",
    "    return registered_imgs"
   ]
  },
  {
   "cell_type": "code",
   "execution_count": null,
   "metadata": {},
   "outputs": [],
   "source": [
    "# register\n",
    "registered_imgs = register(imgs_wth, dots_wth)"
   ]
  },
  {
   "cell_type": "code",
   "execution_count": null,
   "metadata": {},
   "outputs": [],
   "source": [
    "projected_imgs = imgs_wth.reduce({Axes.CH}, func=\"max\")"
   ]
  },
  {
   "cell_type": "markdown",
   "metadata": {},
   "source": [
    "# Finding spots"
   ]
  },
  {
   "cell_type": "code",
   "execution_count": null,
   "metadata": {},
   "outputs": [],
   "source": [
    "tlmpf = FindSpots.TrackpyLocalMaxPeakFinder(\n",
    "    spot_diameter=5,\n",
    "    min_mass=0.2,\n",
    "    max_size=2,\n",
    "    separation=7,\n",
    "    noise_size=0.65,\n",
    "    preprocess=False,\n",
    "    percentile=10,\n",
    "    verbose=True,\n",
    "    is_volume=True,\n",
    ")\n",
    "spots = tlmpf.run(image_stack=imgs_wth)"
   ]
  },
  {
   "cell_type": "markdown",
   "metadata": {},
   "source": [
    "Visualisation of spots tracked"
   ]
  },
  {
   "cell_type": "code",
   "execution_count": null,
   "metadata": {},
   "outputs": [],
   "source": [
    "import trackpy\n",
    "from tifffile import imread\n",
    "import matplotlib.pyplot as plt"
   ]
  },
  {
   "cell_type": "code",
   "execution_count": null,
   "metadata": {},
   "outputs": [],
   "source": [
    "f = trackpy.locate(np.concatenate((raw_image,raw_image_1), axis =0), diameter=5, minmass=0.2)"
   ]
  },
  {
   "cell_type": "code",
   "execution_count": null,
   "metadata": {},
   "outputs": [],
   "source": [
    "trackpy.annotate(f, raw_image)"
   ]
  },
  {
   "cell_type": "markdown",
   "metadata": {},
   "source": [
    "# Decoding spot"
   ]
  },
  {
   "cell_type": "code",
   "execution_count": null,
   "metadata": {},
   "outputs": [],
   "source": [
    "def decode_spots(codebook, spots):\n",
    "    #decoder = DecodeSpots.PerRoundMaxChannel(codebook=codebook)\n",
    "    decoder = DecodeSpots.SimpleLookupDecoder(codebook=codebook)\n",
    "    return decoder.run(spots=spots)"
   ]
  },
  {
   "cell_type": "code",
   "execution_count": null,
   "metadata": {},
   "outputs": [],
   "source": [
    "# decode\n",
    "decoded = decode_spots(codebook, spots)"
   ]
  },
  {
   "cell_type": "markdown",
   "metadata": {},
   "source": [
    "# Segmenting cells"
   ]
  },
  {
   "cell_type": "code",
   "execution_count": null,
   "metadata": {},
   "outputs": [],
   "source": [
    "def segment(imgs, nuclei):\n",
    "    # set parameters\n",
    "    dapi_thresh = .1  # global threshold value for nuclei images\n",
    "    stain_thresh = .42  # global threshold value for primary images\n",
    "    min_dist = 57  # minimum distance (pixels) between nuclei distance transformed peaks\n",
    "\n",
    "    seg = Segment.Watershed(\n",
    "        nuclei_threshold=dapi_thresh,\n",
    "        input_threshold=stain_thresh,\n",
    "        min_distance=min_dist\n",
    "    )\n",
    "\n",
    "    # masks is BinaryMaskCollection for downstream steps\n",
    "    masks = seg.run(imgs_wth, nuclei)\n",
    "    return seg, masks"
   ]
  },
  {
   "cell_type": "code",
   "execution_count": null,
   "metadata": {},
   "outputs": [],
   "source": [
    "# segment\n",
    "seg, masks = segment(imgs, nuclei)\n",
    "# display intermediate images and result\n",
    "seg.show()"
   ]
  },
  {
   "cell_type": "markdown",
   "metadata": {},
   "source": [
    "# Single cell gene expression"
   ]
  },
  {
   "cell_type": "code",
   "execution_count": null,
   "metadata": {},
   "outputs": [],
   "source": [
    "def make_expression_matrix(masks, decoded):\n",
    "    al = AssignTargets.Label()\n",
    "    print(al)\n",
    "    labeled = al.run(masks, decoded[decoded.target != 'nan'])\n",
    "    cg = labeled[labeled.cell_id != 'nan'].to_expression_matrix()\n",
    "    return cg"
   ]
  },
  {
   "cell_type": "code",
   "execution_count": null,
   "metadata": {},
   "outputs": [],
   "source": [
    "# make expression matrix\n",
    "mat = make_expression_matrix(masks, decoded)"
   ]
  },
  {
   "cell_type": "code",
   "execution_count": null,
   "metadata": {},
   "outputs": [],
   "source": [
    "AssignTargets?"
   ]
  },
  {
   "cell_type": "markdown",
   "metadata": {},
   "source": [
    "# Visualisation results"
   ]
  },
  {
   "cell_type": "code",
   "execution_count": null,
   "metadata": {},
   "outputs": [],
   "source": [
    "print(decoded.to_features_dataframe().head(10))"
   ]
  },
  {
   "cell_type": "code",
   "execution_count": null,
   "metadata": {},
   "outputs": [],
   "source": [
    "import matplotlib.pyplot as plt\n",
    "import seaborn as sns\n",
    "\n",
    "plt.figure(figsize=(30, 10))\n",
    "sns.set(font_scale=4)\n",
    "sns.heatmap(mat.data.T,\n",
    "            yticklabels=['gene 3GAPDH','gene 5GAPDH'],\n",
    "            xticklabels = ['cell {}'.format(n+1) for n in range(mat.data.T.size)],\n",
    "            cmap='magma')"
   ]
  }
 ],
 "metadata": {
  "kernelspec": {
   "display_name": "starfish",
   "language": "python",
   "name": "starfish"
  },
  "language_info": {
   "codemirror_mode": {
    "name": "ipython",
    "version": 3
   },
   "file_extension": ".py",
   "mimetype": "text/x-python",
   "name": "python",
   "nbconvert_exporter": "python",
   "pygments_lexer": "ipython3",
   "version": "3.7.7"
  }
 },
 "nbformat": 4,
 "nbformat_minor": 4
}
